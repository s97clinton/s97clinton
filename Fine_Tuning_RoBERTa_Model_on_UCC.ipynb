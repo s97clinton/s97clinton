{
  "nbformat": 4,
  "nbformat_minor": 0,
  "metadata": {
    "colab": {
      "provenance": [],
      "authorship_tag": "ABX9TyMXcbE5pah5wtXNM/EV+tyC",
      "include_colab_link": true
    },
    "kernelspec": {
      "name": "python3",
      "display_name": "Python 3"
    },
    "language_info": {
      "name": "python"
    },
    "gpuClass": "standard"
  },
  "cells": [
    {
      "cell_type": "markdown",
      "metadata": {
        "id": "view-in-github",
        "colab_type": "text"
      },
      "source": [
        "<a href=\"https://colab.research.google.com/github/s97clinton/s97clinton/blob/main/Fine_Tuning_RoBERTa_Model_on_UCC.ipynb\" target=\"_parent\"><img src=\"https://colab.research.google.com/assets/colab-badge.svg\" alt=\"Open In Colab\"/></a>"
      ]
    },
    {
      "cell_type": "markdown",
      "source": [
        "# The plan for fine-tuning RoBERTA with the UCC\n",
        "## 1. Set Up\n",
        "\n",
        "\n",
        "*   Install transformers and pytorch lightning and import required packages.\n",
        "*   Load UCC data and inspect.\n",
        "\n",
        "## 2. Create a dataset\n",
        "\n",
        "\n",
        "*   Load data into PyTorch dataset.\n",
        "\n",
        "## 3. Build the model\n",
        "\n",
        "\n",
        "*   Create a new pytorch (lightning) model with the Hugging Face RoBERTa model and a multi-label classification head.\n",
        "\n",
        "## 4. Test model performance\n",
        "\n",
        "\n",
        "*   Test model performance using the ROC AUC and same test-set used in the original paper.\n",
        "\n",
        "\n",
        "\n",
        "\n",
        "\n",
        "\n",
        "\n"
      ],
      "metadata": {
        "id": "n3iiYAlE81bY"
      }
    },
    {
      "cell_type": "markdown",
      "source": [
        "# Setup"
      ],
      "metadata": {
        "id": "Vh7gehKw9sFn"
      }
    },
    {
      "cell_type": "code",
      "execution_count": 1,
      "metadata": {
        "id": "RaIqVOOa8zp8"
      },
      "outputs": [],
      "source": [
        "# !nvidia-smi #Check GPU type\n",
        "%%capture\n",
        "!pip install transformers\n",
        "!pip install pytorch-lightning"
      ]
    },
    {
      "cell_type": "code",
      "source": [
        "import os\n",
        "import matplotlib.pyplot\n",
        "from google.colab import drive"
      ],
      "metadata": {
        "id": "dbRTGvnmAk-a"
      },
      "execution_count": 2,
      "outputs": []
    },
    {
      "cell_type": "code",
      "source": [
        "drive.mount('/content/drive',force_remount=False)"
      ],
      "metadata": {
        "colab": {
          "base_uri": "https://localhost:8080/"
        },
        "id": "Lft0D11hAuYE",
        "outputId": "e0a54541-97ea-45e3-bdf0-c27bad39d47e"
      },
      "execution_count": 3,
      "outputs": [
        {
          "output_type": "stream",
          "name": "stdout",
          "text": [
            "Mounted at /content/drive\n"
          ]
        }
      ]
    },
    {
      "cell_type": "code",
      "source": [
        "train_path = '/content/drive/MyDrive/corpus/train.csv'\n",
        "test_path = '/content/drive/MyDrive/corpus/test.csv'\n",
        "val_path = '/content/drive/MyDrive/corpus/val.csv'"
      ],
      "metadata": {
        "id": "zTGb36YmBaUX"
      },
      "execution_count": 4,
      "outputs": []
    },
    {
      "cell_type": "code",
      "source": [
        "import pandas as pd\n",
        "train_data = pd.read_csv(train_path)"
      ],
      "metadata": {
        "id": "fatb6vMeBtY5"
      },
      "execution_count": 5,
      "outputs": []
    },
    {
      "cell_type": "code",
      "source": [
        "train_data"
      ],
      "metadata": {
        "colab": {
          "base_uri": "https://localhost:8080/",
          "height": 991
        },
        "id": "H8qDJ9bQB5QX",
        "outputId": "83bf6312-9f90-4254-c656-3e8fec17c87a"
      },
      "execution_count": 6,
      "outputs": [
        {
          "output_type": "execute_result",
          "data": {
            "text/plain": [
              "         _unit_id  _trusted_judgments  \\\n",
              "0      2319157561                   4   \n",
              "1      1739464982                   4   \n",
              "2      1739457583                   5   \n",
              "3      2319156950                  40   \n",
              "4      2327196492                   3   \n",
              "...           ...                 ...   \n",
              "35498  2327179313                   3   \n",
              "35499  2164631772                   3   \n",
              "35500  1739460377                   3   \n",
              "35501  1739461160                   5   \n",
              "35502  1739454817                   5   \n",
              "\n",
              "                                                 comment  antagonize  \\\n",
              "0      Three marriages, several bankrupt periods, inh...           0   \n",
              "1      The sense of entitlement among high school 'jo...           0   \n",
              "2              So what? He was just stating the obvious.           0   \n",
              "3      If one is a Con, why yes, one would honk. Loud...           0   \n",
              "4      Ooohhh... It's Wendy Whiner... making sure to ...           0   \n",
              "...                                                  ...         ...   \n",
              "35498  Okay, make that \"write a book\" Fingers don't a...           0   \n",
              "35499  It was Americans in Alberta, not the governmen...           0   \n",
              "35500  Whiner: Your air force consists of paper power...           0   \n",
              "35501                             OUTSTANDING EDITORIAL!           0   \n",
              "35502  They forget to talk about the murders and oppr...           0   \n",
              "\n",
              "       antagonize:confidence  condescending  condescending:confidence  \\\n",
              "0                     1.0000              0                    1.0000   \n",
              "1                     0.7634              0                    0.7634   \n",
              "2                     0.8121              0                    0.5928   \n",
              "3                     0.8508              0                    0.8867   \n",
              "4                     1.0000              0                    1.0000   \n",
              "...                      ...            ...                       ...   \n",
              "35498                 1.0000              0                    1.0000   \n",
              "35499                 1.0000              0                    1.0000   \n",
              "35500                 1.0000              0                    1.0000   \n",
              "35501                 0.7934              0                    1.0000   \n",
              "35502                 0.7761              0                    0.7917   \n",
              "\n",
              "       dismissive  dismissive:confidence  generalisation  \\\n",
              "0               0                 1.0000               0   \n",
              "1               0                 0.7634               0   \n",
              "2               0                 0.8043               0   \n",
              "3               0                 0.9239               0   \n",
              "4               0                 1.0000               0   \n",
              "...           ...                    ...             ...   \n",
              "35498           0                 1.0000               0   \n",
              "35499           0                 1.0000               0   \n",
              "35500           0                 1.0000               0   \n",
              "35501           0                 1.0000               0   \n",
              "35502           0                 1.0000               0   \n",
              "\n",
              "       generalisation:confidence  generalisation_unfair  \\\n",
              "0                         1.0000                    0.0   \n",
              "1                         1.0000                    0.0   \n",
              "2                         1.0000                    0.0   \n",
              "3                         0.8863                    0.0   \n",
              "4                         1.0000                    0.0   \n",
              "...                          ...                    ...   \n",
              "35498                     1.0000                    0.0   \n",
              "35499                     1.0000                    0.0   \n",
              "35500                     1.0000                    0.0   \n",
              "35501                     1.0000                    0.0   \n",
              "35502                     1.0000                    0.0   \n",
              "\n",
              "       generalisation_unfair:confidence  healthy  healthy:confidence  hostile  \\\n",
              "0                                   1.0        1              0.7578        0   \n",
              "1                                   1.0        1              0.7634        0   \n",
              "2                                   1.0        1              0.6163        0   \n",
              "3                                   1.0        1              0.8508        0   \n",
              "4                                   1.0        1              1.0000        0   \n",
              "...                                 ...      ...                 ...      ...   \n",
              "35498                               1.0        1              1.0000        0   \n",
              "35499                               1.0        1              1.0000        0   \n",
              "35500                               1.0        1              1.0000        0   \n",
              "35501                               1.0        1              0.7934        0   \n",
              "35502                               1.0        1              0.5865        0   \n",
              "\n",
              "       hostile:confidence  sarcastic  sarcastic:confidence  \n",
              "0                  0.7565          0                1.0000  \n",
              "1                  0.7634          0                0.7634  \n",
              "2                  1.0000          0                1.0000  \n",
              "3                  0.9641          0                0.8868  \n",
              "4                  1.0000          0                1.0000  \n",
              "...                   ...        ...                   ...  \n",
              "35498              1.0000          0                1.0000  \n",
              "35499              1.0000          0                1.0000  \n",
              "35500              1.0000          0                1.0000  \n",
              "35501              1.0000          0                1.0000  \n",
              "35502              0.7761          1                0.5811  \n",
              "\n",
              "[35503 rows x 19 columns]"
            ],
            "text/html": [
              "\n",
              "  <div id=\"df-2b015b4c-e182-4190-b94b-9cd948aa09d3\">\n",
              "    <div class=\"colab-df-container\">\n",
              "      <div>\n",
              "<style scoped>\n",
              "    .dataframe tbody tr th:only-of-type {\n",
              "        vertical-align: middle;\n",
              "    }\n",
              "\n",
              "    .dataframe tbody tr th {\n",
              "        vertical-align: top;\n",
              "    }\n",
              "\n",
              "    .dataframe thead th {\n",
              "        text-align: right;\n",
              "    }\n",
              "</style>\n",
              "<table border=\"1\" class=\"dataframe\">\n",
              "  <thead>\n",
              "    <tr style=\"text-align: right;\">\n",
              "      <th></th>\n",
              "      <th>_unit_id</th>\n",
              "      <th>_trusted_judgments</th>\n",
              "      <th>comment</th>\n",
              "      <th>antagonize</th>\n",
              "      <th>antagonize:confidence</th>\n",
              "      <th>condescending</th>\n",
              "      <th>condescending:confidence</th>\n",
              "      <th>dismissive</th>\n",
              "      <th>dismissive:confidence</th>\n",
              "      <th>generalisation</th>\n",
              "      <th>generalisation:confidence</th>\n",
              "      <th>generalisation_unfair</th>\n",
              "      <th>generalisation_unfair:confidence</th>\n",
              "      <th>healthy</th>\n",
              "      <th>healthy:confidence</th>\n",
              "      <th>hostile</th>\n",
              "      <th>hostile:confidence</th>\n",
              "      <th>sarcastic</th>\n",
              "      <th>sarcastic:confidence</th>\n",
              "    </tr>\n",
              "  </thead>\n",
              "  <tbody>\n",
              "    <tr>\n",
              "      <th>0</th>\n",
              "      <td>2319157561</td>\n",
              "      <td>4</td>\n",
              "      <td>Three marriages, several bankrupt periods, inh...</td>\n",
              "      <td>0</td>\n",
              "      <td>1.0000</td>\n",
              "      <td>0</td>\n",
              "      <td>1.0000</td>\n",
              "      <td>0</td>\n",
              "      <td>1.0000</td>\n",
              "      <td>0</td>\n",
              "      <td>1.0000</td>\n",
              "      <td>0.0</td>\n",
              "      <td>1.0</td>\n",
              "      <td>1</td>\n",
              "      <td>0.7578</td>\n",
              "      <td>0</td>\n",
              "      <td>0.7565</td>\n",
              "      <td>0</td>\n",
              "      <td>1.0000</td>\n",
              "    </tr>\n",
              "    <tr>\n",
              "      <th>1</th>\n",
              "      <td>1739464982</td>\n",
              "      <td>4</td>\n",
              "      <td>The sense of entitlement among high school 'jo...</td>\n",
              "      <td>0</td>\n",
              "      <td>0.7634</td>\n",
              "      <td>0</td>\n",
              "      <td>0.7634</td>\n",
              "      <td>0</td>\n",
              "      <td>0.7634</td>\n",
              "      <td>0</td>\n",
              "      <td>1.0000</td>\n",
              "      <td>0.0</td>\n",
              "      <td>1.0</td>\n",
              "      <td>1</td>\n",
              "      <td>0.7634</td>\n",
              "      <td>0</td>\n",
              "      <td>0.7634</td>\n",
              "      <td>0</td>\n",
              "      <td>0.7634</td>\n",
              "    </tr>\n",
              "    <tr>\n",
              "      <th>2</th>\n",
              "      <td>1739457583</td>\n",
              "      <td>5</td>\n",
              "      <td>So what? He was just stating the obvious.</td>\n",
              "      <td>0</td>\n",
              "      <td>0.8121</td>\n",
              "      <td>0</td>\n",
              "      <td>0.5928</td>\n",
              "      <td>0</td>\n",
              "      <td>0.8043</td>\n",
              "      <td>0</td>\n",
              "      <td>1.0000</td>\n",
              "      <td>0.0</td>\n",
              "      <td>1.0</td>\n",
              "      <td>1</td>\n",
              "      <td>0.6163</td>\n",
              "      <td>0</td>\n",
              "      <td>1.0000</td>\n",
              "      <td>0</td>\n",
              "      <td>1.0000</td>\n",
              "    </tr>\n",
              "    <tr>\n",
              "      <th>3</th>\n",
              "      <td>2319156950</td>\n",
              "      <td>40</td>\n",
              "      <td>If one is a Con, why yes, one would honk. Loud...</td>\n",
              "      <td>0</td>\n",
              "      <td>0.8508</td>\n",
              "      <td>0</td>\n",
              "      <td>0.8867</td>\n",
              "      <td>0</td>\n",
              "      <td>0.9239</td>\n",
              "      <td>0</td>\n",
              "      <td>0.8863</td>\n",
              "      <td>0.0</td>\n",
              "      <td>1.0</td>\n",
              "      <td>1</td>\n",
              "      <td>0.8508</td>\n",
              "      <td>0</td>\n",
              "      <td>0.9641</td>\n",
              "      <td>0</td>\n",
              "      <td>0.8868</td>\n",
              "    </tr>\n",
              "    <tr>\n",
              "      <th>4</th>\n",
              "      <td>2327196492</td>\n",
              "      <td>3</td>\n",
              "      <td>Ooohhh... It's Wendy Whiner... making sure to ...</td>\n",
              "      <td>0</td>\n",
              "      <td>1.0000</td>\n",
              "      <td>0</td>\n",
              "      <td>1.0000</td>\n",
              "      <td>0</td>\n",
              "      <td>1.0000</td>\n",
              "      <td>0</td>\n",
              "      <td>1.0000</td>\n",
              "      <td>0.0</td>\n",
              "      <td>1.0</td>\n",
              "      <td>1</td>\n",
              "      <td>1.0000</td>\n",
              "      <td>0</td>\n",
              "      <td>1.0000</td>\n",
              "      <td>0</td>\n",
              "      <td>1.0000</td>\n",
              "    </tr>\n",
              "    <tr>\n",
              "      <th>...</th>\n",
              "      <td>...</td>\n",
              "      <td>...</td>\n",
              "      <td>...</td>\n",
              "      <td>...</td>\n",
              "      <td>...</td>\n",
              "      <td>...</td>\n",
              "      <td>...</td>\n",
              "      <td>...</td>\n",
              "      <td>...</td>\n",
              "      <td>...</td>\n",
              "      <td>...</td>\n",
              "      <td>...</td>\n",
              "      <td>...</td>\n",
              "      <td>...</td>\n",
              "      <td>...</td>\n",
              "      <td>...</td>\n",
              "      <td>...</td>\n",
              "      <td>...</td>\n",
              "      <td>...</td>\n",
              "    </tr>\n",
              "    <tr>\n",
              "      <th>35498</th>\n",
              "      <td>2327179313</td>\n",
              "      <td>3</td>\n",
              "      <td>Okay, make that \"write a book\" Fingers don't a...</td>\n",
              "      <td>0</td>\n",
              "      <td>1.0000</td>\n",
              "      <td>0</td>\n",
              "      <td>1.0000</td>\n",
              "      <td>0</td>\n",
              "      <td>1.0000</td>\n",
              "      <td>0</td>\n",
              "      <td>1.0000</td>\n",
              "      <td>0.0</td>\n",
              "      <td>1.0</td>\n",
              "      <td>1</td>\n",
              "      <td>1.0000</td>\n",
              "      <td>0</td>\n",
              "      <td>1.0000</td>\n",
              "      <td>0</td>\n",
              "      <td>1.0000</td>\n",
              "    </tr>\n",
              "    <tr>\n",
              "      <th>35499</th>\n",
              "      <td>2164631772</td>\n",
              "      <td>3</td>\n",
              "      <td>It was Americans in Alberta, not the governmen...</td>\n",
              "      <td>0</td>\n",
              "      <td>1.0000</td>\n",
              "      <td>0</td>\n",
              "      <td>1.0000</td>\n",
              "      <td>0</td>\n",
              "      <td>1.0000</td>\n",
              "      <td>0</td>\n",
              "      <td>1.0000</td>\n",
              "      <td>0.0</td>\n",
              "      <td>1.0</td>\n",
              "      <td>1</td>\n",
              "      <td>1.0000</td>\n",
              "      <td>0</td>\n",
              "      <td>1.0000</td>\n",
              "      <td>0</td>\n",
              "      <td>1.0000</td>\n",
              "    </tr>\n",
              "    <tr>\n",
              "      <th>35500</th>\n",
              "      <td>1739460377</td>\n",
              "      <td>3</td>\n",
              "      <td>Whiner: Your air force consists of paper power...</td>\n",
              "      <td>0</td>\n",
              "      <td>1.0000</td>\n",
              "      <td>0</td>\n",
              "      <td>1.0000</td>\n",
              "      <td>0</td>\n",
              "      <td>1.0000</td>\n",
              "      <td>0</td>\n",
              "      <td>1.0000</td>\n",
              "      <td>0.0</td>\n",
              "      <td>1.0</td>\n",
              "      <td>1</td>\n",
              "      <td>1.0000</td>\n",
              "      <td>0</td>\n",
              "      <td>1.0000</td>\n",
              "      <td>0</td>\n",
              "      <td>1.0000</td>\n",
              "    </tr>\n",
              "    <tr>\n",
              "      <th>35501</th>\n",
              "      <td>1739461160</td>\n",
              "      <td>5</td>\n",
              "      <td>OUTSTANDING EDITORIAL!</td>\n",
              "      <td>0</td>\n",
              "      <td>0.7934</td>\n",
              "      <td>0</td>\n",
              "      <td>1.0000</td>\n",
              "      <td>0</td>\n",
              "      <td>1.0000</td>\n",
              "      <td>0</td>\n",
              "      <td>1.0000</td>\n",
              "      <td>0.0</td>\n",
              "      <td>1.0</td>\n",
              "      <td>1</td>\n",
              "      <td>0.7934</td>\n",
              "      <td>0</td>\n",
              "      <td>1.0000</td>\n",
              "      <td>0</td>\n",
              "      <td>1.0000</td>\n",
              "    </tr>\n",
              "    <tr>\n",
              "      <th>35502</th>\n",
              "      <td>1739454817</td>\n",
              "      <td>5</td>\n",
              "      <td>They forget to talk about the murders and oppr...</td>\n",
              "      <td>0</td>\n",
              "      <td>0.7761</td>\n",
              "      <td>0</td>\n",
              "      <td>0.7917</td>\n",
              "      <td>0</td>\n",
              "      <td>1.0000</td>\n",
              "      <td>0</td>\n",
              "      <td>1.0000</td>\n",
              "      <td>0.0</td>\n",
              "      <td>1.0</td>\n",
              "      <td>1</td>\n",
              "      <td>0.5865</td>\n",
              "      <td>0</td>\n",
              "      <td>0.7761</td>\n",
              "      <td>1</td>\n",
              "      <td>0.5811</td>\n",
              "    </tr>\n",
              "  </tbody>\n",
              "</table>\n",
              "<p>35503 rows × 19 columns</p>\n",
              "</div>\n",
              "      <button class=\"colab-df-convert\" onclick=\"convertToInteractive('df-2b015b4c-e182-4190-b94b-9cd948aa09d3')\"\n",
              "              title=\"Convert this dataframe to an interactive table.\"\n",
              "              style=\"display:none;\">\n",
              "        \n",
              "  <svg xmlns=\"http://www.w3.org/2000/svg\" height=\"24px\"viewBox=\"0 0 24 24\"\n",
              "       width=\"24px\">\n",
              "    <path d=\"M0 0h24v24H0V0z\" fill=\"none\"/>\n",
              "    <path d=\"M18.56 5.44l.94 2.06.94-2.06 2.06-.94-2.06-.94-.94-2.06-.94 2.06-2.06.94zm-11 1L8.5 8.5l.94-2.06 2.06-.94-2.06-.94L8.5 2.5l-.94 2.06-2.06.94zm10 10l.94 2.06.94-2.06 2.06-.94-2.06-.94-.94-2.06-.94 2.06-2.06.94z\"/><path d=\"M17.41 7.96l-1.37-1.37c-.4-.4-.92-.59-1.43-.59-.52 0-1.04.2-1.43.59L10.3 9.45l-7.72 7.72c-.78.78-.78 2.05 0 2.83L4 21.41c.39.39.9.59 1.41.59.51 0 1.02-.2 1.41-.59l7.78-7.78 2.81-2.81c.8-.78.8-2.07 0-2.86zM5.41 20L4 18.59l7.72-7.72 1.47 1.35L5.41 20z\"/>\n",
              "  </svg>\n",
              "      </button>\n",
              "      \n",
              "  <style>\n",
              "    .colab-df-container {\n",
              "      display:flex;\n",
              "      flex-wrap:wrap;\n",
              "      gap: 12px;\n",
              "    }\n",
              "\n",
              "    .colab-df-convert {\n",
              "      background-color: #E8F0FE;\n",
              "      border: none;\n",
              "      border-radius: 50%;\n",
              "      cursor: pointer;\n",
              "      display: none;\n",
              "      fill: #1967D2;\n",
              "      height: 32px;\n",
              "      padding: 0 0 0 0;\n",
              "      width: 32px;\n",
              "    }\n",
              "\n",
              "    .colab-df-convert:hover {\n",
              "      background-color: #E2EBFA;\n",
              "      box-shadow: 0px 1px 2px rgba(60, 64, 67, 0.3), 0px 1px 3px 1px rgba(60, 64, 67, 0.15);\n",
              "      fill: #174EA6;\n",
              "    }\n",
              "\n",
              "    [theme=dark] .colab-df-convert {\n",
              "      background-color: #3B4455;\n",
              "      fill: #D2E3FC;\n",
              "    }\n",
              "\n",
              "    [theme=dark] .colab-df-convert:hover {\n",
              "      background-color: #434B5C;\n",
              "      box-shadow: 0px 1px 3px 1px rgba(0, 0, 0, 0.15);\n",
              "      filter: drop-shadow(0px 1px 2px rgba(0, 0, 0, 0.3));\n",
              "      fill: #FFFFFF;\n",
              "    }\n",
              "  </style>\n",
              "\n",
              "      <script>\n",
              "        const buttonEl =\n",
              "          document.querySelector('#df-2b015b4c-e182-4190-b94b-9cd948aa09d3 button.colab-df-convert');\n",
              "        buttonEl.style.display =\n",
              "          google.colab.kernel.accessAllowed ? 'block' : 'none';\n",
              "\n",
              "        async function convertToInteractive(key) {\n",
              "          const element = document.querySelector('#df-2b015b4c-e182-4190-b94b-9cd948aa09d3');\n",
              "          const dataTable =\n",
              "            await google.colab.kernel.invokeFunction('convertToInteractive',\n",
              "                                                     [key], {});\n",
              "          if (!dataTable) return;\n",
              "\n",
              "          const docLinkHtml = 'Like what you see? Visit the ' +\n",
              "            '<a target=\"_blank\" href=https://colab.research.google.com/notebooks/data_table.ipynb>data table notebook</a>'\n",
              "            + ' to learn more about interactive tables.';\n",
              "          element.innerHTML = '';\n",
              "          dataTable['output_type'] = 'display_data';\n",
              "          await google.colab.output.renderOutput(dataTable, element);\n",
              "          const docLink = document.createElement('div');\n",
              "          docLink.innerHTML = docLinkHtml;\n",
              "          element.appendChild(docLink);\n",
              "        }\n",
              "      </script>\n",
              "    </div>\n",
              "  </div>\n",
              "  "
            ]
          },
          "metadata": {},
          "execution_count": 6
        }
      ]
    },
    {
      "cell_type": "markdown",
      "source": [
        "# Inspect Data"
      ],
      "metadata": {
        "id": "e6OTX_iG9y-X"
      }
    },
    {
      "cell_type": "code",
      "source": [
        "import numpy as np\n",
        "\n",
        "train_data['unhealthy'] = np.where(train_data['healthy'] == 1, 0, 1)\n",
        "\n",
        "attributes = ['antagonize','condescending','dismissive','generalisation',\n",
        "              'generalisation_unfair','hostile','sarcastic','unhealthy']\n",
        "\n",
        "train_data[attributes].sum().plot.bar()"
      ],
      "metadata": {
        "colab": {
          "base_uri": "https://localhost:8080/",
          "height": 378
        },
        "id": "Jk81ViUbCxZP",
        "outputId": "0c757ed5-d982-43a9-93ec-bb03201dd281"
      },
      "execution_count": 7,
      "outputs": [
        {
          "output_type": "execute_result",
          "data": {
            "text/plain": [
              "<matplotlib.axes._subplots.AxesSubplot at 0x7fa8bdd1c730>"
            ]
          },
          "metadata": {},
          "execution_count": 7
        },
        {
          "output_type": "display_data",
          "data": {
            "text/plain": [
              "<Figure size 432x288 with 1 Axes>"
            ],
            "image/png": "[encoded data removed]"
          },
          "metadata": {
            "needs_background": "light"
          }
        }
      ]
    },
    {
      "cell_type": "markdown",
      "source": [
        "#Dataset"
      ],
      "metadata": {
        "id": "sYjqINuh91YO"
      }
    },
    {
      "cell_type": "code",
      "source": [
        "from torch.utils.data import Dataset\n",
        "import torch"
      ],
      "metadata": {
        "id": "hzVTbPySD5MW"
      },
      "execution_count": 8,
      "outputs": []
    },
    {
      "cell_type": "code",
      "source": [
        "class UCC_Dataset(Dataset):\n",
        "\n",
        "  def __init__(self, data_path, tokenizer, attributes, max_token_len: int = 128, sample = 5000):\n",
        "    self.data_path = data_path\n",
        "    self.tokenizer = tokenizer\n",
        "    self.attributes = attributes\n",
        "    self.max_token_len = max_token_len\n",
        "    self.sample = sample\n",
        "    self._prepare_data()\n",
        "\n",
        "  def _prepare_data(self):\n",
        "    data = pd.read_csv(self.data_path)\n",
        "    data['unhealthy'] = np.where(data['healthy'] == 1, 0, 1)\n",
        "    if self.sample is not None:\n",
        "      unhealthy = data.loc[data[attributes].sum(axis=1)>0]\n",
        "      healthy = data.loc[data[attributes].sum(axis=1)==0]\n",
        "      self.data = pd.concat([unhealthy, healthy.sample(self.sample, random_state = 7)])\n",
        "\n",
        "    else:\n",
        "      self.data = data\n",
        "  \n",
        "\n",
        "  def __len__(self):\n",
        "    return(len(self.data))\n",
        "\n",
        "  def __getitem__(self, index):\n",
        "    item = self.data.iloc[index]\n",
        "    comment = str(item.comment)\n",
        "    attributes = torch.FloatTensor(item[self.attributes])\n",
        "    tokens = self.tokenizer.encode_plus(comment, \n",
        "                                        add_special_tokens=True, \n",
        "                                        return_tensors = 'pt', \n",
        "                                        truncation = True, \n",
        "                                        max_length = self.max_token_len, \n",
        "                                        padding = 'max_length',\n",
        "                                        return_attention_mask = True)\n",
        "    return {'input_ids': tokens.input_ids.flatten(), 'attention_mask': tokens.attention_mask.flatten(), 'labels': attributes}"
      ],
      "metadata": {
        "id": "d6rVvi3MD_rk"
      },
      "execution_count": 18,
      "outputs": []
    },
    {
      "cell_type": "code",
      "source": [
        "from transformers import AutoTokenizer\n",
        "model_name = 'roberta-base'\n",
        "tokenizer = AutoTokenizer.from_pretrained(model_name)\n",
        "ucc_ds = UCC_Dataset(train_path, tokenizer, attributes)\n",
        "ucc_ds_val = UCC_Dataset(val_path, tokenizer, attributes, sample = None)"
      ],
      "metadata": {
        "id": "mlWqbV_pVaY0"
      },
      "execution_count": 19,
      "outputs": []
    },
    {
      "cell_type": "code",
      "source": [
        "ucc_ds.__getitem__(0)"
      ],
      "metadata": {
        "colab": {
          "base_uri": "https://localhost:8080/"
        },
        "id": "T-BA6g0zYPA0",
        "outputId": "c2af3b1a-fe57-4e0f-fff2-178f097a79da"
      },
      "execution_count": 20,
      "outputs": [
        {
          "output_type": "execute_result",
          "data": {
            "text/plain": [
              "{'input_ids': tensor([    0, 19897, 29846,     4,    38,    64,    75,   679, 46301,    74,\n",
              "          9802,   132,     9,    39,   308,    95,     7,  1471,   559,   332,\n",
              "             8,   146,  7064,   356,  1099,     4,   370,   214,   235,     6,\n",
              "         46301,    16,    10, 34759,     4,     2,     1,     1,     1,     1,\n",
              "             1,     1,     1,     1,     1,     1,     1,     1,     1,     1,\n",
              "             1,     1,     1,     1,     1,     1,     1,     1,     1,     1,\n",
              "             1,     1,     1,     1,     1,     1,     1,     1,     1,     1,\n",
              "             1,     1,     1,     1,     1,     1,     1,     1,     1,     1,\n",
              "             1,     1,     1,     1,     1,     1,     1,     1,     1,     1,\n",
              "             1,     1,     1,     1,     1,     1,     1,     1,     1,     1,\n",
              "             1,     1,     1,     1,     1,     1,     1,     1,     1,     1,\n",
              "             1,     1,     1,     1,     1,     1,     1,     1,     1,     1,\n",
              "             1,     1,     1,     1,     1,     1,     1,     1]),\n",
              " 'attention_mask': tensor([1, 1, 1, 1, 1, 1, 1, 1, 1, 1, 1, 1, 1, 1, 1, 1, 1, 1, 1, 1, 1, 1, 1, 1,\n",
              "         1, 1, 1, 1, 1, 1, 1, 1, 1, 1, 1, 1, 0, 0, 0, 0, 0, 0, 0, 0, 0, 0, 0, 0,\n",
              "         0, 0, 0, 0, 0, 0, 0, 0, 0, 0, 0, 0, 0, 0, 0, 0, 0, 0, 0, 0, 0, 0, 0, 0,\n",
              "         0, 0, 0, 0, 0, 0, 0, 0, 0, 0, 0, 0, 0, 0, 0, 0, 0, 0, 0, 0, 0, 0, 0, 0,\n",
              "         0, 0, 0, 0, 0, 0, 0, 0, 0, 0, 0, 0, 0, 0, 0, 0, 0, 0, 0, 0, 0, 0, 0, 0,\n",
              "         0, 0, 0, 0, 0, 0, 0, 0]),\n",
              " 'labels': tensor([0., 0., 0., 0., 0., 0., 0., 1.])}"
            ]
          },
          "metadata": {},
          "execution_count": 20
        }
      ]
    },
    {
      "cell_type": "code",
      "source": [
        "len(ucc_ds)"
      ],
      "metadata": {
        "colab": {
          "base_uri": "https://localhost:8080/"
        },
        "id": "uQAFmcTLY7oU",
        "outputId": "62d39b20-f393-42b9-bcfc-45fdc7ebcfb7"
      },
      "execution_count": 21,
      "outputs": [
        {
          "output_type": "execute_result",
          "data": {
            "text/plain": [
              "9960"
            ]
          },
          "metadata": {},
          "execution_count": 21
        }
      ]
    },
    {
      "cell_type": "markdown",
      "source": [
        "#Data Module"
      ],
      "metadata": {
        "id": "TD3Uqs4T93uX"
      }
    },
    {
      "cell_type": "code",
      "source": [
        "import pytorch_lightning as pl\n",
        "from torch.utils.data import DataLoader"
      ],
      "metadata": {
        "id": "U6sdcA2iZD-e"
      },
      "execution_count": 22,
      "outputs": []
    },
    {
      "cell_type": "code",
      "source": [
        "class UCC_Data_Module(pl.LightningDataModule):\n",
        "\n",
        "  def __init__(self, train_path, val_path, test_path, attributes, batch_size: int = 16, max_token_len: int = 128, model_name = 'roberta-base'):\n",
        "    super().__init__()\n",
        "    self.train_path = train_path\n",
        "    self.val_path = val_path\n",
        "    self.test_path = test_path\n",
        "    self.attributes = attributes\n",
        "    self.batch_size = batch_size\n",
        "    self.max_token_len = max_token_len\n",
        "    self.model_name = model_name\n",
        "    self.tokenizer = AutoTokenizer.from_pretrained(model_name)\n",
        "\n",
        "\n",
        "  def setup(self, stage = None):\n",
        "    if stage in (None, \"fit\"):\n",
        "      self.train_dataset = UCC_Dataset(self.train_path, self.tokenizer, self.attributes)\n",
        "      self.val_dataset = UCC_Dataset(self.val_path, self.tokenizer, self.attributes, sample = None)\n",
        "    if stage == 'predict':\n",
        "      self.val_dataset = UCC_Dataset(self.val_path, self.tokenizer, self.attributes, sample = None)\n",
        "    \n",
        "  def train_dataloader(self):\n",
        "    return DataLoader(self.train_dataset, batch_size=self.batch_size, num_workers=2, shuffle=True)\n",
        "    \n",
        "  def val_dataloader(self):\n",
        "    return DataLoader(self.val_dataset, batch_size=self.batch_size, num_workers=2, shuffle=False)\n",
        "    \n",
        "  def test_dataloader(self):\n",
        "    return DataLoader(self.test_dataset, batch_size=self.batch_size, num_workers=2, shuffle=False)"
      ],
      "metadata": {
        "id": "QDTEtIf6ZOAr"
      },
      "execution_count": 28,
      "outputs": []
    },
    {
      "cell_type": "code",
      "source": [
        "ucc_data_module = UCC_Data_Module(train_path, val_path, test_path, attributes)"
      ],
      "metadata": {
        "id": "8y2veFwZbx5Z"
      },
      "execution_count": 29,
      "outputs": []
    },
    {
      "cell_type": "code",
      "source": [
        "ucc_data_module.setup()"
      ],
      "metadata": {
        "id": "IhrrLa4Gb7kA"
      },
      "execution_count": 30,
      "outputs": []
    },
    {
      "cell_type": "code",
      "source": [
        "d1 = ucc_data_module.train_dataloader()"
      ],
      "metadata": {
        "id": "tArqPLr_b_rS"
      },
      "execution_count": 31,
      "outputs": []
    },
    {
      "cell_type": "code",
      "source": [
        "len(d1)"
      ],
      "metadata": {
        "colab": {
          "base_uri": "https://localhost:8080/"
        },
        "id": "CCjTSNvCcJGd",
        "outputId": "ef60e641-4746-401c-cb5e-cf8bf69e64d4"
      },
      "execution_count": 33,
      "outputs": [
        {
          "output_type": "execute_result",
          "data": {
            "text/plain": [
              "623"
            ]
          },
          "metadata": {},
          "execution_count": 33
        }
      ]
    },
    {
      "cell_type": "markdown",
      "source": [
        "#Model"
      ],
      "metadata": {
        "id": "7q3hOZV0D095"
      }
    },
    {
      "cell_type": "code",
      "source": [],
      "metadata": {
        "id": "Y0AV1gU6brvH"
      },
      "execution_count": null,
      "outputs": []
    },
    {
      "cell_type": "markdown",
      "source": [
        "#Train"
      ],
      "metadata": {
        "id": "O4itYLsDD2HU"
      }
    },
    {
      "cell_type": "markdown",
      "source": [
        "#Predict / Evaluate"
      ],
      "metadata": {
        "id": "x4s36S4ddlcJ"
      }
    }
  ]
}